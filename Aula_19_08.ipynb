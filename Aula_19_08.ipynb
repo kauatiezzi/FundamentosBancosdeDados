{
  "nbformat": 4,
  "nbformat_minor": 0,
  "metadata": {
    "colab": {
      "provenance": [],
      "authorship_tag": "ABX9TyM/Qfz+Xv+XHr5xwlkIpvaf",
      "include_colab_link": true
    },
    "kernelspec": {
      "name": "python3",
      "display_name": "Python 3"
    },
    "language_info": {
      "name": "python"
    }
  },
  "cells": [
    {
      "cell_type": "markdown",
      "metadata": {
        "id": "view-in-github",
        "colab_type": "text"
      },
      "source": [
        "<a href=\"https://colab.research.google.com/github/kauatiezzi/FundamentosBancosdeDados/blob/main/Aula_19_08.ipynb\" target=\"_parent\"><img src=\"https://colab.research.google.com/assets/colab-badge.svg\" alt=\"Open In Colab\"/></a>"
      ]
    },
    {
      "cell_type": "code",
      "execution_count": 1,
      "metadata": {
        "colab": {
          "base_uri": "https://localhost:8080/"
        },
        "id": "KrhXx0prxu_6",
        "outputId": "0eddccf7-dee0-465f-eca1-dd9ff5cc71b7"
      },
      "outputs": [
        {
          "output_type": "stream",
          "name": "stdout",
          "text": [
            "hello world\n"
          ]
        }
      ],
      "source": [
        "print(\"hello world\")"
      ]
    },
    {
      "cell_type": "code",
      "source": [
        "#criar nome do arquivo\n",
        "\n",
        "arquivo = \"UniaraEnc19082024.txt\"\n",
        "\n",
        "#abrir o arquivo e inserir uma linha\n",
        "\n",
        "with open(arquivo, 'w') as f:\n",
        "  f.write(\"É isso aí!!\\n\")\n",
        "  f.write(\"Segunda linha\")\n",
        "\n",
        "print(\"Fim! Arquivo gerado!\")"
      ],
      "metadata": {
        "colab": {
          "base_uri": "https://localhost:8080/"
        },
        "id": "W3r4zdmfy1eb",
        "outputId": "9339ac7c-d02c-440d-ee93-ea46531ea805"
      },
      "execution_count": 3,
      "outputs": [
        {
          "output_type": "stream",
          "name": "stdout",
          "text": [
            "Fim! Arquivo gerado!\n"
          ]
        }
      ]
    },
    {
      "cell_type": "code",
      "source": [
        "#criar nome do arquivo\n",
        "\n",
        "arquivo = \"Arquivo2.txt\"\n",
        "\n",
        "contador = 0\n",
        "\n",
        "#abrir o arquivo e inserir uma linha\n",
        "\n",
        "with open(arquivo, 'w') as f:\n",
        "  while(contador < 10):\n",
        "    f.write(f\"Contador é {contador}\\n\")\n",
        "    contador += 1\n",
        "\n",
        "print(\"Fim! Arquivo gerado!\")"
      ],
      "metadata": {
        "colab": {
          "base_uri": "https://localhost:8080/"
        },
        "id": "ot1cOqgl3z5Z",
        "outputId": "8497b0ef-6412-485b-f818-28d2b40f55f7"
      },
      "execution_count": 5,
      "outputs": [
        {
          "output_type": "stream",
          "name": "stdout",
          "text": [
            "Fim! Arquivo gerado!\n"
          ]
        }
      ]
    }
  ]
}